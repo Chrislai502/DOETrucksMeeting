{
 "cells": [
  {
   "cell_type": "code",
   "execution_count": 2,
   "id": "093b67c1",
   "metadata": {},
   "outputs": [],
   "source": [
    "import pandas as pd\n",
    "import numpy as np\n",
    "import os"
   ]
  },
  {
   "cell_type": "code",
   "execution_count": 3,
   "id": "8dd8fe18",
   "metadata": {},
   "outputs": [],
   "source": [
    "# =======================================================\n",
    "# FUNCTION: Reader of pickle files for (a, b) coefficients\n",
    "#   a, b = readDataCSV(\"<Folder Name>\")\n",
    "#\n",
    "# Arguments:\n",
    "#   saveFolderName    (str ) the foldername for the stored pickle files. Default :\"OLS_Data\"\n",
    "#\n",
    "# Returns:\n",
    "#   a [ k ][ i ][ j ] (dict) k is the Vehiecle Type, i is the starting node, and j is the end node\n",
    "#   b [ k ][ i ][ j ] (dict) k is the Vehiecle Type, i is the starting node, and j is the end node\n",
    "# \n",
    "#   Notes:\n",
    "#   - i and j are 1 indexed, for convenience. i = 0 or j = 0, holds garbage values.\n",
    "#   - The name of vehicles, k, needs to be exactly the same as the \n",
    "#     column from the datafile used to generate the pickle files.\n",
    "# =======================================================\n",
    "\n",
    "def readDataCSV (saveFolderName = \"OLS_Data\"):\n",
    "    \n",
    "    # Initialize some folderpath\n",
    "    path = os.path.join(os.getcwd(), saveFolderName)\n",
    "    \n",
    "    # If the folder doesn't exist, print error and return\n",
    "    if not os.path.exists(path):\n",
    "        print(\"Error, Source Folder Doesn't exist\")\n",
    "        return \n",
    "    VehiecleTypesPath = [ fi for fi in os.listdir(path) if fi.endswith(\".pkl\") ]\n",
    "    VehiecleTypes = [i[:len(i) - 4] for i in VehiecleTypesPath] # change to use split or something else\n",
    "    \n",
    "    # Get the number of nodes brute forcedly\n",
    "    filePath = os.path.join(path, VehiecleTypesPath[0])\n",
    "    df = pd.read_pickle(filePath)\n",
    "    numNodes = np.shape(df.iloc[:, 0].values)[0]\n",
    "    \n",
    "    # Initializing return dictionary\n",
    "    a = {}\n",
    "    b = {}\n",
    "\n",
    "    for ind, v in enumerate(VehiecleTypes):\n",
    "        filePath = os.path.join(path, v + \".pkl\")\n",
    "        df = pd.read_pickle(filePath)\n",
    "        \n",
    "        # initialize an empty array to store the days\n",
    "        a[v] = np.full((numNodes + 1, numNodes + 1), -1, dtype = float)\n",
    "        b[v] = np.full((numNodes + 1, numNodes + 1), -1, dtype = float)\n",
    "        \n",
    "        results = df.to_numpy().transpose()\n",
    "        for i, temp in enumerate(results, 1):\n",
    "            for j, ab in enumerate(temp, 1):\n",
    "                if type(ab) == tuple:\n",
    "                    a[v][i][j], b[v][i][j] = ab[0], ab[1] \n",
    "                else:\n",
    "                    a[v][i][j], b[v][i][j] = ab, ab\n",
    "                    \n",
    "    return a, b"
   ]
  },
  {
   "cell_type": "code",
   "execution_count": 4,
   "id": "dd5d049f",
   "metadata": {},
   "outputs": [],
   "source": [
    "a, b = readDataCSV()"
   ]
  },
  {
   "cell_type": "code",
   "execution_count": 7,
   "id": "5f0f9158",
   "metadata": {},
   "outputs": [
    {
     "data": {
      "text/plain": [
       "(-0.00021834261956616522, 19.40885861178)"
      ]
     },
     "execution_count": 7,
     "metadata": {},
     "output_type": "execute_result"
    }
   ],
   "source": [
    "# Example lookup\n",
    "k = 'class8_conv_2021_daycab_regionalhaul_FU19'\n",
    "i = 18\n",
    "j = 1\n",
    "\n",
    "a[k][i][j], b[k][i][j] "
   ]
  },
  {
   "cell_type": "code",
   "execution_count": null,
   "id": "59e95361",
   "metadata": {},
   "outputs": [],
   "source": []
  }
 ],
 "metadata": {
  "kernelspec": {
   "display_name": "Python 3 (ipykernel)",
   "language": "python",
   "name": "python3"
  },
  "language_info": {
   "codemirror_mode": {
    "name": "ipython",
    "version": 3
   },
   "file_extension": ".py",
   "mimetype": "text/x-python",
   "name": "python",
   "nbconvert_exporter": "python",
   "pygments_lexer": "ipython3",
   "version": "3.8.13"
  }
 },
 "nbformat": 4,
 "nbformat_minor": 5
}
