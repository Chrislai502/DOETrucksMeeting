{
 "cells": [
  {
   "cell_type": "code",
   "execution_count": 1,
   "metadata": {},
   "outputs": [],
   "source": [
    "import pandas as pd\n",
    "import numpy as np\n",
    "from sklearn.linear_model import LinearRegression\n",
    "from sklearn.model_selection import train_test_split\n",
    "from scipy import stats\n",
    "import os"
   ]
  },
  {
   "cell_type": "code",
   "execution_count": 7,
   "metadata": {},
   "outputs": [],
   "source": [
    "load_all = pd.read_csv('Load_mat_all_reso0.02.csv',index_col=0)\n",
    "node = pd.read_csv('Node_list_reso0.02.csv',index_col=0)\n",
    "nmax = 84\n",
    "# Add Sink Node\n",
    "num_cus = len(node)-1\n",
    "sink_node = len(node)\n",
    "load_all_w_sink = load_all.copy()\n",
    "load_all_w_sink.Start_Node = load_all.Start_Node - 1\n",
    "load_all_w_sink.End_Node = load_all.End_Node - 1\n",
    "load_all_w_sink[load_all_w_sink['End_Node']==0]\n",
    "load_all_w_sink = load_all_w_sink.replace({'End_Node': 0}, sink_node)"
   ]
  },
  {
   "cell_type": "code",
   "execution_count": 26,
   "metadata": {},
   "outputs": [],
   "source": [
    "#alpha[i,j,k]\n",
    "D_RH_mat = pd.read_pickle('OLS_Data_0.02reso//Tire_cir_0.00427//Fuel_class8_conv_2021_daycab_regionalhaul_FU19.pkl')\n",
    "B_RH_mat = pd.read_pickle('OLS_Data_0.02reso//Tire_cir_0.00427//Elec_class8_bev_2021_daycab_regionalhaul_FU19.pkl')\n",
    "def energy_consump(i,j,k):\n",
    "    i1 = i+1\n",
    "    if j != nmax:\n",
    "        j1 = j+1\n",
    "    else: \n",
    "        j1 = 1\n",
    "    if k==1:\n",
    "        out = D_RH_mat.loc['j_'+str(j1),'i_'+str(i1)]\n",
    "        if out == 0:\n",
    "            out = D_RH_mat.loc['j_'+str(i1),'i_'+str(j1)]\n",
    "    else:\n",
    "        out = B_RH_mat.loc['j_'+str(j1),'i_'+str(i1)]\n",
    "        if out == 0:\n",
    "            out = D_RH_mat.loc['j_'+str(i1),'i_'+str(j1)]\n",
    "    if pd.isnull(out):\n",
    "        # print('Edge-based energy consumption data missing',i1,j1) \n",
    "        return (i1,j1)"
   ]
  },
  {
   "cell_type": "code",
   "execution_count": 28,
   "metadata": {},
   "outputs": [],
   "source": [
    "k=1\n",
    "list = []\n",
    "for ind,row in load_all_w_sink.iterrows():\n",
    "    i = row.Start_Node\n",
    "    j = row.End_Node\n",
    "    list.append(energy_consump(i,j,k))"
   ]
  },
  {
   "cell_type": "code",
   "execution_count": 30,
   "metadata": {},
   "outputs": [
    {
     "data": {
      "text/plain": [
       "{(1, 35),\n",
       " (1, 58),\n",
       " (1, 71),\n",
       " (1, 72),\n",
       " (1, 78),\n",
       " (1, 80),\n",
       " (11, 44),\n",
       " (11, 75),\n",
       " (12, 19),\n",
       " (12, 29),\n",
       " (12, 31),\n",
       " (12, 34),\n",
       " (12, 40),\n",
       " (12, 53),\n",
       " (13, 19),\n",
       " (13, 49),\n",
       " (15, 16),\n",
       " (15, 54),\n",
       " (16, 43),\n",
       " (16, 48),\n",
       " (2, 5),\n",
       " (21, 26),\n",
       " (21, 34),\n",
       " (23, 53),\n",
       " (24, 28),\n",
       " (25, 33),\n",
       " (25, 38),\n",
       " (27, 28),\n",
       " (27, 48),\n",
       " (3, 66),\n",
       " (33, 69),\n",
       " (35, 36),\n",
       " (35, 69),\n",
       " (37, 70),\n",
       " (39, 53),\n",
       " (5, 27),\n",
       " (5, 30),\n",
       " (5, 41),\n",
       " (5, 45),\n",
       " (5, 51),\n",
       " (58, 59),\n",
       " (6, 12),\n",
       " (6, 31),\n",
       " (6, 34),\n",
       " (6, 39),\n",
       " (6, 68),\n",
       " (6, 7),\n",
       " (66, 83),\n",
       " (69, 73),\n",
       " (7, 29),\n",
       " (7, 40),\n",
       " (9, 10),\n",
       " (9, 62),\n",
       " (9, 70),\n",
       " None}"
      ]
     },
     "execution_count": 30,
     "metadata": {},
     "output_type": "execute_result"
    }
   ],
   "source": [
    "set(list)"
   ]
  },
  {
   "cell_type": "code",
   "execution_count": null,
   "metadata": {},
   "outputs": [],
   "source": []
  }
 ],
 "metadata": {
  "kernelspec": {
   "display_name": "Python 3.10.4 ('sklearn-env')",
   "language": "python",
   "name": "python3"
  },
  "language_info": {
   "codemirror_mode": {
    "name": "ipython",
    "version": 3
   },
   "file_extension": ".py",
   "mimetype": "text/x-python",
   "name": "python",
   "nbconvert_exporter": "python",
   "pygments_lexer": "ipython3",
   "version": "3.10.4"
  },
  "orig_nbformat": 4,
  "vscode": {
   "interpreter": {
    "hash": "073db2c05fe2e61e4b0689b91de786d55e908d59f913932575f4ad3a7694549a"
   }
  }
 },
 "nbformat": 4,
 "nbformat_minor": 2
}
