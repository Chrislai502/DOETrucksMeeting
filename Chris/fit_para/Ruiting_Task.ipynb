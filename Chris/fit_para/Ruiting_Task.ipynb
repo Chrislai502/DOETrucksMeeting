{
 "cells": [
  {
   "cell_type": "code",
   "execution_count": 1,
   "id": "543c5e1f",
   "metadata": {},
   "outputs": [],
   "source": [
    "import pandas as pd\n",
    "import numpy as np\n",
    "from sklearn.linear_model import LinearRegression\n",
    "from scipy import stats\n",
    "import os\n",
    "\n",
    "# Shutil is a recursive tool to delete file paths\n",
    "# Note: Only needed if you plan to overwrite existing filepaths\n",
    "import shutil"
   ]
  },
  {
   "cell_type": "markdown",
   "id": "516b951a",
   "metadata": {},
   "source": [
    "# Function: generateData\n",
    "### Performs OLS on every edge and saves a, b into csv and json files \n",
    "\n",
    "> (bool) freight : Freight mode calculation on or off\n",
    "(str) dataSourcePath : Source data file path (.xlsx)\n",
    "(str) saveFolderName : Name of the folder to save the data (non-existing)\n",
    "\n",
    "#### Note:  -1 is a placeholder for N/A values (self loops)"
   ]
  },
  {
   "cell_type": "code",
   "execution_count": 19,
   "id": "78dd933f",
   "metadata": {},
   "outputs": [],
   "source": [
    "# This function will store the sampled data into multiple csv files.\n",
    "def generateData (freight = True, dataSourcePath = 'Batch_Div27_Class8_bev_1_Results_metrics.xlsx', saveFolderName = \"OLS_Data\"):\n",
    "    parent_dir = os.getcwd()\n",
    "    savePath = os.path.join(parent_dir, saveFolderName)\n",
    "    \n",
    "    # If the folder already exists, remove the folder\n",
    "    if os.path.exists(savePath):\n",
    "        shutil.rmtree(savePath)\n",
    "    os.makedirs(savePath)\n",
    "    \n",
    "    # Load and trim Data\n",
    "    data = pd.read_excel(dataSourcePath, index_col=None)\n",
    "    df = data.loc[:, ['Vehicle Model-none',\\\n",
    "                      'Battery Energy Consumption per Mile-kWh/mi',\\\n",
    "                      'Vehicle Static Mass-lbm',\\\n",
    "                      'Cargo Mass-lbm']]\n",
    "    \n",
    "    # Getting information from the table\n",
    "    vehicleTypes = pd.Series(data['Vehicle Model-none'].values).unique()\n",
    "    \n",
    "    # Function to look for the number of nodes from a list of strings in the source file\n",
    "    def findNumNodes(sentence_arr):\n",
    "        running_max = 1\n",
    "        length = len(sentence_arr)\n",
    "        i_val = np.full(length, 0)\n",
    "        j_val = np.full(length, 0)\n",
    "        for index, sentence in enumerate(sentence_arr):\n",
    "\n",
    "            # Split the string, and get the corresponding node values\n",
    "            temp = sentence.lower().split('div')[1].split('_raw')[0].split('_')\n",
    "            j = temp[-1]\n",
    "            i = temp[-2]\n",
    "            j = int(''.join([x for x in j if x.isdigit()]))\n",
    "            i = int(''.join([x for x in i if x.isdigit()]))\n",
    "            running_max = max(i, j, running_max)\n",
    "            i_val[index], j_val[index] = i, j\n",
    "        return running_max, i_val, j_val\n",
    "    \n",
    "    # Adding \"i\" and \"j\" columns for lookup convenience later in code\n",
    "    numNodes, i_val, j_val = findNumNodes(data[\"Cycle Source-none\"].values)\n",
    "    print(\"Number Of Nodes: \", numNodes)\n",
    "    data = 0 # Release Memory\n",
    "    df['i'], df['j'] = i_val, j_val\n",
    "    \n",
    "    # Setup for csv files index and column labels\n",
    "    cols = [\"i_\" + str(i) for i in range(1, numNodes+1)]\n",
    "    rows = [\"j_\" + str(i) for i in range(1, numNodes+1)]\n",
    "                   \n",
    "    # Loop for Vehicle Types (k)\n",
    "    for v in vehicleTypes:\n",
    "        workFrame = df[df[\"Vehicle Model-none\"] == v]\n",
    "        newFrame = pd.DataFrame(columns = cols, index = rows)\n",
    "        \n",
    "        # Iterate over node values i, j, and assign constants a, b, into \"newFrame\"\n",
    "        for i in range(1, numNodes + 1):\n",
    "            for j in range(1, numNodes + 1):\n",
    "                \n",
    "                # This line below gives a frame of the cost of an edge\n",
    "                data = workFrame.loc[((workFrame['i'] == i) & (workFrame['j'] == j))]\n",
    "\n",
    "                # edge case if i = j or data Doesn't exist\n",
    "                if i == j :\n",
    "                    newFrame.iat[i-1, j-1] = -1\n",
    "                    continue\n",
    "                if data.size == 0:\n",
    "                    newFrame.iat[i-1, j-1] = 0\n",
    "                    continue\n",
    "                \n",
    "                # Doing linear regression here\n",
    "                if freight:\n",
    "                    # Set training data to be Cargo data\n",
    "                    X = (data.loc[:, ['Cargo Mass-lbm']]*0.453592).values.reshape(-1, 1)\n",
    "                    \n",
    "                else:\n",
    "                    X = (data.loc[:, ['Vehicle Static Mass-lbm']]*0.453592).values.reshape(-1, 1)\n",
    "\n",
    "                Y = (data.loc[:, ['Battery Energy Consumption per Mile-kWh/mi']]/1.60934).values.reshape(-1, 1)\n",
    "                LR = LinearRegression()  # create object for the class\n",
    "                LR.fit(X, Y)  # perform linear regression\n",
    "                \n",
    "                # Assigning the calculated a, b params\n",
    "                newFrame.iat[i - 1, j - 1] = (LR.coef_.item(0), LR.intercept_.item(0))\n",
    "\n",
    "        # Create the filePath\n",
    "        tempPath2 = os.path.join(savePath, v + \".csv\")\n",
    "        tempPath3 = os.path.join(savePath, v + \".json\")\n",
    "        newFrame.to_csv(tempPath2)\n",
    "        newFrame.to_json(tempPath3)"
   ]
  },
  {
   "cell_type": "code",
   "execution_count": 66,
   "id": "337ae50b",
   "metadata": {},
   "outputs": [],
   "source": [
    "# Testing generation using scikit-learn\n",
    "\n",
    "dataSourcePath = 'Batch_Div27_Class8_2_Results_metrics_BEV.xlsx'\n",
    "\n",
    "# Testing generation using scikit-learn\n",
    "data = pd.read_excel(dataSourcePath, index_col=None)\n",
    "df = data.loc[:, ['Vehicle Model-none',\\\n",
    "        'Battery Energy Consumption per Mile-kWh/mi',\\\n",
    "        'Vehicle Static Mass-lbm',\\\n",
    "        'Cargo Mass-lbm']]\n",
    "\n",
    "# Function to look for the number of nodes from a list of strings in the source file\n",
    "def findInt(sentence_arr):\n",
    "    running_max = 1\n",
    "    length = len(sentence_arr)\n",
    "    i_val = np.full(length, 0)\n",
    "    j_val = np.full(length, 0)\n",
    "    for index, sentence in enumerate(sentence_arr):\n",
    "        digits = [int(i) for i in sentence if i.isdigit()] \n",
    "        running_max = max(digits[-1], digits[-2], running_max)\n",
    "        i_val[index], j_val[index] = digits[-2], digits[-1]\n",
    "    return running_max, i_val, j_val\n",
    "\n",
    "# Adding \"i\" and \"j\" columns for lookup convenience later in code\n",
    "numNodes, i_val, j_val = findInt(data[\"Cycle Source-none\"].values)\n",
    "df['i'], df['j'] = i_val, j_val"
   ]
  },
  {
   "cell_type": "code",
   "execution_count": 17,
   "id": "78b54bf4",
   "metadata": {},
   "outputs": [],
   "source": [
    "workFrame = df[df[\"Vehicle Model-none\"] == 'class8_bev_2021_low_sleeper_longhaul_FU19']\n",
    "\n",
    "data = workFrame.loc[((workFrame['i'] == 1) & (workFrame['j'] == 2))]\n",
    "\n",
    "train_data = data.loc[:, ['Cargo Mass-lbm']]*0.453592\n",
    "train_data.columns = ['CargoMass_kg']\n",
    "train_data['Energy_kwh_km'] = data.loc[:, ['Battery Energy Consumption per Mile-kWh/mi']]/1.60934\n",
    "\n",
    "X = train_data.iloc[:, 0].values.reshape(-1, 1)  # values converts it into a numpy array\n",
    "Y = train_data.iloc[:, 1].values.reshape(-1, 1)  # -1 means that calculate the dimension of rows, but have 1 column\n",
    "linear_regressor = LinearRegression()  # create object for the class\n",
    "linear_regressor.fit(X, Y)  # perform linear regression\n",
    "Y_pred = linear_regressor.predict(X)  # make predictions"
   ]
  },
  {
   "cell_type": "code",
   "execution_count": 27,
   "id": "1690b906",
   "metadata": {},
   "outputs": [
    {
     "data": {
      "text/plain": [
       "(array([[2.74025726e-05]]), array([1.11094288]))"
      ]
     },
     "execution_count": 27,
     "metadata": {},
     "output_type": "execute_result"
    }
   ],
   "source": [
    "train_data.iloc[:, 0]\n",
    "linear_regressor.coef_, linear_regressor.intercept_"
   ]
  },
  {
   "cell_type": "code",
   "execution_count": 20,
   "id": "8a638d45",
   "metadata": {},
   "outputs": [
    {
     "name": "stdout",
     "output_type": "stream",
     "text": [
      "Number Of Nodes:  18\n",
      "[[    0.      ]\n",
      " [    0.      ]\n",
      " [ 3521.234696]\n",
      " [ 7042.469392]\n",
      " [10563.704088]\n",
      " [14084.938784]]\n",
      "[[    0.      ]\n",
      " [    0.      ]\n",
      " [ 3521.234696]\n",
      " [ 7042.469392]\n",
      " [10563.704088]\n",
      " [14084.938784]]\n",
      "Repetition Error\n"
     ]
    }
   ],
   "source": [
    "generateData(freight = True, dataSourcePath = 'Batch_Div27_Class8_bev_1_Results_metrics.xlsx', saveFolderName = \"OLS_Data\")"
   ]
  },
  {
   "cell_type": "code",
   "execution_count": 77,
   "id": "9ccabc85",
   "metadata": {},
   "outputs": [],
   "source": [
    "dataSourcePath = 'Batch_Div27_Class8_bev_1_Results_metrics.xlsx'\n",
    "data = pd.read_excel(dataSourcePath, index_col=None)"
   ]
  },
  {
   "cell_type": "code",
   "execution_count": 78,
   "id": "04f47db3",
   "metadata": {},
   "outputs": [
    {
     "data": {
      "text/plain": [
       "array(['Div27_N1_N2_Raw_Class_8', 'Div27_N1_N2_Raw_Class_8',\n",
       "       'Div27_N1_N2_Raw_Class_8', ..., 'Div27_N18_N17_Raw_Class_8',\n",
       "       'Div27_N18_N17_Raw_Class_8', 'Div27_N18_N17_Raw_Class_8'],\n",
       "      dtype=object)"
      ]
     },
     "execution_count": 78,
     "metadata": {},
     "output_type": "execute_result"
    }
   ],
   "source": [
    "data[\"Cycle Source-none\"].values"
   ]
  },
  {
   "cell_type": "code",
   "execution_count": 82,
   "id": "2064db4f",
   "metadata": {},
   "outputs": [
    {
     "data": {
      "text/plain": [
       "(1, 18)"
      ]
     },
     "execution_count": 82,
     "metadata": {},
     "output_type": "execute_result"
    }
   ],
   "source": [
    "sentence = \"Div27_N1_N18_Raw_Class_8\"\n",
    "temp = sentence.lower().split('div')[1].split('_raw')[0].split('_')\n",
    "j = temp[-1]\n",
    "i = temp[-2]\n",
    "j = int(''.join([x for x in j if x.isdigit()]))\n",
    "i = int(''.join([x for x in i if x.isdigit()]))\n",
    "i, j"
   ]
  },
  {
   "cell_type": "code",
   "execution_count": null,
   "id": "72e9c061",
   "metadata": {},
   "outputs": [],
   "source": [
    "plt.plot(X, Y_pred, color='red')"
   ]
  },
  {
   "cell_type": "code",
   "execution_count": 31,
   "id": "55091513",
   "metadata": {},
   "outputs": [
    {
     "data": {
      "text/plain": [
       "[<matplotlib.lines.Line2D at 0x22d1dc3ffd0>]"
      ]
     },
     "execution_count": 31,
     "metadata": {},
     "output_type": "execute_result"
    },
    {
     "data": {
      "image/png": "[encoded data removed]",
      "text/plain": [
       "<Figure size 432x288 with 1 Axes>"
      ]
     },
     "metadata": {
      "needs_background": "light"
     },
     "output_type": "display_data"
    }
   ],
   "source": [
    "plt.scatter(X, Y)\n",
    "plt.plot(X, Y_pred, color='red')"
   ]
  },
  {
   "cell_type": "markdown",
   "id": "736f5e0b",
   "metadata": {},
   "source": [
    "# Function: readData\n",
    " ### Reads the source folder generated by the  \"generateData\" function returns a, b, as dictionaries.\n",
    "> Input:  \n",
    "(str) saveFolderName: Folder Name of the folder created by generateData\n",
    "  \n",
    "Output: \n",
    ">a [ k ][ i ][ j ]  \n",
    "b [ k ][ i ][ j ] \n",
    "\n",
    "\n",
    ">k : Vehiecle Type (string)    \n",
    "i : Node  (int), index starts from 1  \n",
    "j : Node  (int), index starts from 1  \n",
    "\n",
    "#### Note:  -1 is a placeholder for N/A values (self loops) and -2 is used as padding (for lookup convenience) "
   ]
  },
  {
   "cell_type": "code",
   "execution_count": 195,
   "id": "9785cc58",
   "metadata": {},
   "outputs": [],
   "source": [
    "# Reads out the data and collects them into a dictionary.\n",
    "def readDataCSV (saveFolderName = \"OLS_Data\"):\n",
    "    \n",
    "    # Initialize some folderpath\n",
    "    path = os.path.join(os.getcwd(), saveFolderName)\n",
    "    \n",
    "    # If the folder doesn't exist, print error and return\n",
    "    if not os.path.exists(path):\n",
    "        print(\"Error, Source Folder Doesn't exist\")\n",
    "        return \n",
    "    VehiecleTypesPath = [ fi for fi in os.listdir(path) if fi.endswith(\".json\") ]\n",
    "    VehiecleTypes = [i[:len(i) - 5] for i in VehiecleTypesPath]\n",
    "    \n",
    "    # Get the number of nodes brute forcedly\n",
    "    filePath = os.path.join(path, VehiecleTypesPath[0])\n",
    "    df = pd.read_json(filePath)\n",
    "    numNodes = np.shape(df.iloc[:, 0].values)[0]\n",
    "    \n",
    "    # Initializing return dictionary\n",
    "    a = {}\n",
    "    b = {}\n",
    "\n",
    "    for ind, v in enumerate(VehiecleTypes):\n",
    "        # initialize an empty array to store the days\n",
    "        a[v] = np.full((numNodes + 1, numNodes + 1), -1, dtype = np.float64)\n",
    "        b[v] = np.full((numNodes + 1, numNodes + 1), -1, dtype = np.float64)\n",
    "        \n",
    "        results = df.to_numpy().transpose()\n",
    "        for i, temp in enumerate(results, 1):\n",
    "            for j, ab in enumerate(temp, 1):\n",
    "                if type(ab) == list:\n",
    "                    a[v][i][j], b[v][i][j] = ab[0], ab[1] \n",
    "                else:\n",
    "                    a[v][i][j], b[v][i][j] = ab, ab\n",
    "                    \n",
    "    return a, b"
   ]
  },
  {
   "cell_type": "code",
   "execution_count": 196,
   "id": "47e3a741",
   "metadata": {},
   "outputs": [],
   "source": [
    "a, b = readDataCSV()"
   ]
  },
  {
   "cell_type": "code",
   "execution_count": 197,
   "id": "e13d9e67",
   "metadata": {},
   "outputs": [
    {
     "data": {
      "text/plain": [
       "{'class8_bev_2021_daycab_regionalhaul_FU19': array([[-1.        , -1.        , -1.        , -1.        , -1.        ,\n",
       "         -1.        , -1.        ],\n",
       "        [-1.        , -1.        ,  0.9624333 ,  0.        ,  0.        ,\n",
       "          0.        ,  0.        ],\n",
       "        [-1.        ,  0.99023307, -1.        ,  1.07051201,  0.        ,\n",
       "          0.        ,  0.        ],\n",
       "        [-1.        ,  0.        ,  1.05705361, -1.        ,  0.99329434,\n",
       "          0.        ,  0.        ],\n",
       "        [-1.        ,  0.        ,  0.        ,  0.96707142, -1.        ,\n",
       "          0.        ,  0.        ],\n",
       "        [-1.        ,  0.        ,  0.        ,  0.        ,  0.        ,\n",
       "         -1.        ,  0.99510199],\n",
       "        [-1.        ,  0.        ,  0.        ,  0.        ,  0.        ,\n",
       "          1.01047391, -1.        ]]),\n",
       " 'class8_bev_2021_low_sleeper_longhaul_FU19': array([[-1.        , -1.        , -1.        , -1.        , -1.        ,\n",
       "         -1.        , -1.        ],\n",
       "        [-1.        , -1.        ,  0.9624333 ,  0.        ,  0.        ,\n",
       "          0.        ,  0.        ],\n",
       "        [-1.        ,  0.99023307, -1.        ,  1.07051201,  0.        ,\n",
       "          0.        ,  0.        ],\n",
       "        [-1.        ,  0.        ,  1.05705361, -1.        ,  0.99329434,\n",
       "          0.        ,  0.        ],\n",
       "        [-1.        ,  0.        ,  0.        ,  0.96707142, -1.        ,\n",
       "          0.        ,  0.        ],\n",
       "        [-1.        ,  0.        ,  0.        ,  0.        ,  0.        ,\n",
       "         -1.        ,  0.99510199],\n",
       "        [-1.        ,  0.        ,  0.        ,  0.        ,  0.        ,\n",
       "          1.01047391, -1.        ]])}"
      ]
     },
     "execution_count": 197,
     "metadata": {},
     "output_type": "execute_result"
    }
   ],
   "source": [
    "a"
   ]
  },
  {
   "cell_type": "code",
   "execution_count": 198,
   "id": "0cbf36e9",
   "metadata": {},
   "outputs": [
    {
     "data": {
      "text/plain": [
       "0.9951019945"
      ]
     },
     "execution_count": 198,
     "metadata": {},
     "output_type": "execute_result"
    }
   ],
   "source": [
    "# Example lookup\n",
    "a['class8_bev_2021_daycab_regionalhaul_FU19'][5][6]"
   ]
  },
  {
   "cell_type": "code",
   "execution_count": 55,
   "id": "72da645f",
   "metadata": {},
   "outputs": [],
   "source": [
    "target  = \"Div27_N1_N223_Raw_Class_8\"\n",
    "target2 = \"Dedi_1666_div27_1_2_Raw\"\n",
    "a = target.lower().split('div')\n",
    "b = a[1].split('_raw')\n",
    "\n",
    "\n",
    "def findNumNodes(arr_):\n",
    "    running_max = 0\n",
    "    a = arr_[-1]\n",
    "    b = arr_[-2]\n",
    "    a = int(''.join([i for i in a if i.isdigit()]))\n",
    "    b = int(''.join([i for i in b if i.isdigit()]))\n",
    "    running_max = max(a, b, running_max)\n",
    "    return running_max, i_val, j_val"
   ]
  }
 ],
 "metadata": {
  "kernelspec": {
   "display_name": "Python 3 (ipykernel)",
   "language": "python",
   "name": "python3"
  },
  "language_info": {
   "codemirror_mode": {
    "name": "ipython",
    "version": 3
   },
   "file_extension": ".py",
   "mimetype": "text/x-python",
   "name": "python",
   "nbconvert_exporter": "python",
   "pygments_lexer": "ipython3",
   "version": "3.8.13"
  }
 },
 "nbformat": 4,
 "nbformat_minor": 5
}
